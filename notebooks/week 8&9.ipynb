{
  "nbformat": 4,
  "nbformat_minor": 0,
  "metadata": {
    "colab": {
      "provenance": []
    },
    "kernelspec": {
      "name": "python3",
      "display_name": "Python 3"
    },
    "language_info": {
      "name": "python"
    }
  },
  "cells": [
    {
      "cell_type": "code",
      "execution_count": 2,
      "metadata": {
        "id": "a57bkuBlT3mQ"
      },
      "outputs": [],
      "source": [
        "import pandas as pd\n",
        "import gdown\n",
        "import ipaddress\n",
        "import numpy as np\n",
        "from datetime import datetime\n",
        "from sklearn.preprocessing import MinMaxScaler\n"
      ]
    },
    {
      "cell_type": "code",
      "source": [
        "# Load Fraud_Data, Credit Card Data, and IP-to-Country data\n",
        "fraud_df = pd.read_csv(\"/content/Fraud_Data.csv\")\n",
        "creditcard_df = pd.read_csv(\"/content/creditcard1.csv\")\n",
        "ip_country_df = pd.read_csv(\"/content/IpAddress_to_Country.csv\")\n"
      ],
      "metadata": {
        "id": "_yVs8ldKcHe4"
      },
      "execution_count": 7,
      "outputs": []
    },
    {
      "cell_type": "code",
      "source": [
        "# ============================================================\n",
        "# STEP 3: Data Cleaning - IP Address to Country Data\n",
        "# ============================================================\n",
        "\n",
        "# Convert lower_bound_ip_address to integer (it was a float)\n",
        "ip_country_df['lower_bound_ip_address'] = ip_country_df['lower_bound_ip_address'].astype(int)\n"
      ],
      "metadata": {
        "id": "WktFhMraejhV"
      },
      "execution_count": 8,
      "outputs": []
    },
    {
      "cell_type": "code",
      "source": [
        "# ============================================================\n",
        "# STEP 4: Data Cleaning - Fraud Data\n",
        "# ============================================================\n",
        "\n",
        "# Remove duplicate rows from fraud_df (if any)\n",
        "fraud_df.drop_duplicates(inplace=True)\n",
        "\n",
        "# Check for missing values and print a summary\n",
        "print(\"Missing values in Fraud Data:\")\n",
        "print(fraud_df.isna().sum())\n",
        "\n",
        "# Convert timestamp columns to datetime objects.\n",
        "# (Assuming columns are named 'signup_time' and 'purchase_time')\n",
        "fraud_df['signup_time'] = pd.to_datetime(fraud_df['signup_time'], errors='coerce')\n",
        "fraud_df['purchase_time'] = pd.to_datetime(fraud_df['purchase_time'], errors='coerce')\n"
      ],
      "metadata": {
        "colab": {
          "base_uri": "https://localhost:8080/"
        },
        "id": "0dOLcSjXe2LT",
        "outputId": "61979c88-27e2-40af-bb0f-87fa2ec258c2"
      },
      "execution_count": 9,
      "outputs": [
        {
          "output_type": "stream",
          "name": "stdout",
          "text": [
            "Missing values in Fraud Data:\n",
            "user_id           0\n",
            "signup_time       0\n",
            "purchase_time     0\n",
            "purchase_value    0\n",
            "device_id         0\n",
            "source            0\n",
            "browser           0\n",
            "sex               0\n",
            "age               0\n",
            "ip_address        0\n",
            "class             0\n",
            "dtype: int64\n"
          ]
        }
      ]
    },
    {
      "cell_type": "code",
      "source": [
        "# ============================================================\n",
        "# STEP 5: Convert IP Address Strings to Integer\n",
        "# ============================================================\n",
        "\n",
        "# Define a function that converts an IPv4 address (string) to an integer.\n",
        "def ip_to_int(ip_str):\n",
        "    try:\n",
        "        return int(ipaddress.IPv4Address(ip_str))\n",
        "    except Exception:\n",
        "        return np.nan\n",
        "\n",
        "# Apply the conversion to create a new column 'ip_int'\n",
        "fraud_df['ip_int'] = fraud_df['ip_address'].apply(ip_to_int)\n"
      ],
      "metadata": {
        "id": "Jz70z3Ubf_WB"
      },
      "execution_count": 10,
      "outputs": []
    },
    {
      "cell_type": "code",
      "source": [
        "# ============================================================\n",
        "# STEP 6: Merge Fraud Data with IP-to-Country Data\n",
        "# ============================================================\n",
        "\n",
        "# Define a function that maps an IP (as an integer) to a country using the IP ranges\n",
        "def map_ip_to_country(ip_int):\n",
        "    # Find the row in ip_country_df where ip_int falls between the lower and upper bounds\n",
        "    row = ip_country_df[(ip_country_df['lower_bound_ip_address'] <= ip_int) &\n",
        "                        (ip_country_df['upper_bound_ip_address'] >= ip_int)]\n",
        "    if not row.empty:\n",
        "        return row.iloc[0]['country']\n",
        "    else:\n",
        "        return np.nan\n",
        "\n",
        "# Create a new column 'country' in fraud_df by applying the mapping function\n",
        "fraud_df['country'] = fraud_df['ip_int'].apply(map_ip_to_country)\n",
        "\n",
        "# Save the merged DataFrame to a CSV file named 'merged_ip.csv'\n",
        "fraud_df.to_csv(\"merged_ip.csv\", index=False)\n",
        "\n",
        "print(\"Merged file saved as merged_ip.csv\")\n"
      ],
      "metadata": {
        "colab": {
          "base_uri": "https://localhost:8080/"
        },
        "id": "5eo9kSxQgH-Q",
        "outputId": "6ce77af1-30a3-4289-c7ea-e72630ebb9aa"
      },
      "execution_count": 11,
      "outputs": [
        {
          "output_type": "stream",
          "name": "stdout",
          "text": [
            "Merged file saved as merged_ip.csv\n"
          ]
        }
      ]
    },
    {
      "cell_type": "code",
      "source": [
        "\n",
        "# ============================================================\n",
        "# STEP 7: Feature Engineering - Time-Based Features\n",
        "# ============================================================\n",
        "\n",
        "# Extract the hour of day and day of week from the purchase_time column\n",
        "fraud_df['purchase_hour'] = fraud_df['purchase_time'].dt.hour\n",
        "fraud_df['purchase_dayofweek'] = fraud_df['purchase_time'].dt.dayofweek\n"
      ],
      "metadata": {
        "id": "9QSqI_y9gMU9"
      },
      "execution_count": 12,
      "outputs": []
    },
    {
      "cell_type": "code",
      "source": [
        "# ============================================================\n",
        "# STEP 8: Normalize a Key Feature (purchase_value)\n",
        "# ============================================================\n",
        "\n",
        "# Using MinMaxScaler to normalize the 'purchase_value' column (assumed to be the purchase amount)\n",
        "scaler = MinMaxScaler()\n",
        "# Reshape is required because scaler expects a 2D array\n",
        "fraud_df['purchase_value_scaled'] = scaler.fit_transform(fraud_df[['purchase_value']])\n"
      ],
      "metadata": {
        "id": "6iv_-HTDhVED"
      },
      "execution_count": 13,
      "outputs": []
    },
    {
      "cell_type": "code",
      "source": [
        "# ============================================================\n",
        "# STEP 9: Exploratory Data Analysis (EDA) - Quick Look\n",
        "# ============================================================\n",
        "\n",
        "# Print a summary of the fraud dataset to inspect data types and new columns\n",
        "print(\"\\nFraud Data Info:\")\n",
        "print(fraud_df.info())\n",
        "\n",
        "# Display the first few rows to verify the changes\n",
        "print(\"\\nFraud Data Sample:\")\n",
        "print(fraud_df.head())\n",
        "\n",
        "# Optionally, you can also print summary statistics\n",
        "print(\"\\nFraud Data Summary Statistics:\")\n",
        "print(fraud_df.describe())\n"
      ],
      "metadata": {
        "colab": {
          "base_uri": "https://localhost:8080/"
        },
        "id": "8GCfbj82haJv",
        "outputId": "9b652e31-732d-4f01-f884-0ccf19d7eea7"
      },
      "execution_count": 14,
      "outputs": [
        {
          "output_type": "stream",
          "name": "stdout",
          "text": [
            "\n",
            "Fraud Data Info:\n",
            "<class 'pandas.core.frame.DataFrame'>\n",
            "RangeIndex: 151112 entries, 0 to 151111\n",
            "Data columns (total 16 columns):\n",
            " #   Column                 Non-Null Count   Dtype         \n",
            "---  ------                 --------------   -----         \n",
            " 0   user_id                151112 non-null  int64         \n",
            " 1   signup_time            151112 non-null  datetime64[ns]\n",
            " 2   purchase_time          151112 non-null  datetime64[ns]\n",
            " 3   purchase_value         151112 non-null  int64         \n",
            " 4   device_id              151112 non-null  object        \n",
            " 5   source                 151112 non-null  object        \n",
            " 6   browser                151112 non-null  object        \n",
            " 7   sex                    151112 non-null  object        \n",
            " 8   age                    151112 non-null  int64         \n",
            " 9   ip_address             151112 non-null  float64       \n",
            " 10  class                  151112 non-null  int64         \n",
            " 11  ip_int                 0 non-null       float64       \n",
            " 12  country                0 non-null       float64       \n",
            " 13  purchase_hour          151112 non-null  int32         \n",
            " 14  purchase_dayofweek     151112 non-null  int32         \n",
            " 15  purchase_value_scaled  151112 non-null  float64       \n",
            "dtypes: datetime64[ns](2), float64(4), int32(2), int64(4), object(4)\n",
            "memory usage: 17.3+ MB\n",
            "None\n",
            "\n",
            "Fraud Data Sample:\n",
            "   user_id         signup_time       purchase_time  purchase_value  \\\n",
            "0    22058 2015-02-24 22:55:49 2015-04-18 02:47:11              34   \n",
            "1   333320 2015-06-07 20:39:50 2015-06-08 01:38:54              16   \n",
            "2     1359 2015-01-01 18:52:44 2015-01-01 18:52:45              15   \n",
            "3   150084 2015-04-28 21:13:25 2015-05-04 13:54:50              44   \n",
            "4   221365 2015-07-21 07:09:52 2015-09-09 18:40:53              39   \n",
            "\n",
            "       device_id source browser sex  age    ip_address  class  ip_int  \\\n",
            "0  QVPSPJUOCKZAR    SEO  Chrome   M   39  7.327584e+08      0     NaN   \n",
            "1  EOGFQPIZPYXFZ    Ads  Chrome   F   53  3.503114e+08      0     NaN   \n",
            "2  YSSKYOSJHPPLJ    SEO   Opera   M   53  2.621474e+09      1     NaN   \n",
            "3  ATGTXKYKUDUQN    SEO  Safari   M   41  3.840542e+09      0     NaN   \n",
            "4  NAUITBZFJKHWW    Ads  Safari   M   45  4.155831e+08      0     NaN   \n",
            "\n",
            "   country  purchase_hour  purchase_dayofweek  purchase_value_scaled  \n",
            "0      NaN              2                   5               0.172414  \n",
            "1      NaN              1                   0               0.048276  \n",
            "2      NaN             18                   3               0.041379  \n",
            "3      NaN             13                   0               0.241379  \n",
            "4      NaN             18                   2               0.206897  \n",
            "\n",
            "Fraud Data Summary Statistics:\n",
            "             user_id                    signup_time  \\\n",
            "count  151112.000000                         151112   \n",
            "mean   200171.040970  2015-04-20 00:56:09.511329280   \n",
            "min         2.000000            2015-01-01 00:00:42   \n",
            "25%    100642.500000     2015-02-18 09:52:48.500000   \n",
            "50%    199958.000000            2015-04-19 04:41:30   \n",
            "75%    300054.000000  2015-06-18 14:47:22.750000128   \n",
            "max    400000.000000            2015-08-18 04:40:29   \n",
            "std    115369.285024                            NaN   \n",
            "\n",
            "                       purchase_time  purchase_value            age  \\\n",
            "count                         151112   151112.000000  151112.000000   \n",
            "mean   2015-06-16 02:56:38.759952896       36.935372      33.140704   \n",
            "min              2015-01-01 00:00:44        9.000000      18.000000   \n",
            "25%       2015-04-18 14:41:25.500000       22.000000      27.000000   \n",
            "50%       2015-06-18 13:46:17.500000       35.000000      33.000000   \n",
            "75%       2015-08-17 18:48:31.500000       49.000000      39.000000   \n",
            "max              2015-12-16 02:56:05      154.000000      76.000000   \n",
            "std                              NaN       18.322762       8.617733   \n",
            "\n",
            "         ip_address          class  ip_int  country  purchase_hour  \\\n",
            "count  1.511120e+05  151112.000000     0.0      0.0  151112.000000   \n",
            "mean   2.152145e+09       0.093646     NaN      NaN      11.521593   \n",
            "min    5.209350e+04       0.000000     NaN      NaN       0.000000   \n",
            "25%    1.085934e+09       0.000000     NaN      NaN       6.000000   \n",
            "50%    2.154770e+09       0.000000     NaN      NaN      12.000000   \n",
            "75%    3.243258e+09       0.000000     NaN      NaN      17.000000   \n",
            "max    4.294850e+09       1.000000     NaN      NaN      23.000000   \n",
            "std    1.248497e+09       0.291336     NaN      NaN       6.912474   \n",
            "\n",
            "       purchase_dayofweek  purchase_value_scaled  \n",
            "count       151112.000000          151112.000000  \n",
            "mean             3.011819               0.192658  \n",
            "min              0.000000               0.000000  \n",
            "25%              1.000000               0.089655  \n",
            "50%              3.000000               0.179310  \n",
            "75%              5.000000               0.275862  \n",
            "max              6.000000               1.000000  \n",
            "std              2.006203               0.126364  \n"
          ]
        }
      ]
    },
    {
      "cell_type": "code",
      "source": [
        "# ============================================================\n",
        "# STEP 10: (Optional) Quick EDA on Credit Card Data\n",
        "# ============================================================\n",
        "\n",
        "print(\"\\nCredit Card Data Info:\")\n",
        "print(creditcard_df.info())\n",
        "print(\"\\nCredit Card Data Sample:\")\n",
        "print(creditcard_df.head())"
      ],
      "metadata": {
        "colab": {
          "base_uri": "https://localhost:8080/"
        },
        "id": "3rc9wYvvhjzN",
        "outputId": "c805a359-46f7-41d0-95ca-ff7bd49d09d4"
      },
      "execution_count": 15,
      "outputs": [
        {
          "output_type": "stream",
          "name": "stdout",
          "text": [
            "\n",
            "Credit Card Data Info:\n",
            "<class 'pandas.core.frame.DataFrame'>\n",
            "RangeIndex: 7973 entries, 0 to 7972\n",
            "Data columns (total 31 columns):\n",
            " #   Column  Non-Null Count  Dtype  \n",
            "---  ------  --------------  -----  \n",
            " 0   Time    7973 non-null   int64  \n",
            " 1   V1      7973 non-null   float64\n",
            " 2   V2      7973 non-null   float64\n",
            " 3   V3      7973 non-null   float64\n",
            " 4   V4      7973 non-null   float64\n",
            " 5   V5      7973 non-null   float64\n",
            " 6   V6      7973 non-null   float64\n",
            " 7   V7      7973 non-null   float64\n",
            " 8   V8      7973 non-null   float64\n",
            " 9   V9      7973 non-null   float64\n",
            " 10  V10     7973 non-null   float64\n",
            " 11  V11     7973 non-null   float64\n",
            " 12  V12     7973 non-null   float64\n",
            " 13  V13     7973 non-null   float64\n",
            " 14  V14     7973 non-null   float64\n",
            " 15  V15     7972 non-null   float64\n",
            " 16  V16     7972 non-null   float64\n",
            " 17  V17     7972 non-null   float64\n",
            " 18  V18     7972 non-null   float64\n",
            " 19  V19     7972 non-null   float64\n",
            " 20  V20     7972 non-null   float64\n",
            " 21  V21     7972 non-null   float64\n",
            " 22  V22     7972 non-null   float64\n",
            " 23  V23     7972 non-null   float64\n",
            " 24  V24     7972 non-null   float64\n",
            " 25  V25     7972 non-null   float64\n",
            " 26  V26     7972 non-null   float64\n",
            " 27  V27     7972 non-null   float64\n",
            " 28  V28     7972 non-null   float64\n",
            " 29  Amount  7972 non-null   float64\n",
            " 30  Class   7972 non-null   float64\n",
            "dtypes: float64(30), int64(1)\n",
            "memory usage: 1.9 MB\n",
            "None\n",
            "\n",
            "Credit Card Data Sample:\n",
            "   Time        V1        V2        V3        V4        V5        V6        V7  \\\n",
            "0     0 -1.359807 -0.072781  2.536347  1.378155 -0.338321  0.462388  0.239599   \n",
            "1     0  1.191857  0.266151  0.166480  0.448154  0.060018 -0.082361 -0.078803   \n",
            "2     1 -1.358354 -1.340163  1.773209  0.379780 -0.503198  1.800499  0.791461   \n",
            "3     1 -0.966272 -0.185226  1.792993 -0.863291 -0.010309  1.247203  0.237609   \n",
            "4     2 -1.158233  0.877737  1.548718  0.403034 -0.407193  0.095921  0.592941   \n",
            "\n",
            "         V8        V9  ...       V21       V22       V23       V24       V25  \\\n",
            "0  0.098698  0.363787  ... -0.018307  0.277838 -0.110474  0.066928  0.128539   \n",
            "1  0.085102 -0.255425  ... -0.225775 -0.638672  0.101288 -0.339846  0.167170   \n",
            "2  0.247676 -1.514654  ...  0.247998  0.771679  0.909412 -0.689281 -0.327642   \n",
            "3  0.377436 -1.387024  ... -0.108300  0.005274 -0.190321 -1.175575  0.647376   \n",
            "4 -0.270533  0.817739  ... -0.009431  0.798278 -0.137458  0.141267 -0.206010   \n",
            "\n",
            "        V26       V27       V28  Amount  Class  \n",
            "0 -0.189115  0.133558 -0.021053  149.62    0.0  \n",
            "1  0.125895 -0.008983  0.014724    2.69    0.0  \n",
            "2 -0.139097 -0.055353 -0.059752  378.66    0.0  \n",
            "3 -0.221929  0.062723  0.061458  123.50    0.0  \n",
            "4  0.502292  0.219422  0.215153   69.99    0.0  \n",
            "\n",
            "[5 rows x 31 columns]\n"
          ]
        }
      ]
    },
    {
      "cell_type": "code",
      "source": [
        "# Save the cleaned and merged Fraud Data with IP-to-Country information\n",
        "fraud_df.to_csv(\"cleaned_fraud_data.csv\", index=False)\n",
        "print(\"Cleaned fraud data saved as 'cleaned_fraud_data.csv'.\")\n",
        "\n",
        "# Save the cleaned Credit Card Data as well\n",
        "creditcard_df.to_csv(\"cleaned_creditcard_data.csv\", index=False)\n",
        "print(\"Cleaned credit card data saved as 'cleaned_creditcard_data.csv'.\")\n",
        "\n",
        "# (Optional) Save the cleaned IP-to-Country data if needed\n",
        "ip_country_df.to_csv(\"cleaned_ip_country_data.csv\", index=False)\n",
        "print(\"Cleaned IP-to-Country data saved as 'cleaned_ip_country_data.csv'.\")\n"
      ],
      "metadata": {
        "colab": {
          "base_uri": "https://localhost:8080/"
        },
        "id": "wo8fWxcTiP6D",
        "outputId": "fed991d7-9120-4f90-cb4e-f4a800eac4c2"
      },
      "execution_count": 16,
      "outputs": [
        {
          "output_type": "stream",
          "name": "stdout",
          "text": [
            "Cleaned fraud data saved as 'cleaned_fraud_data.csv'.\n",
            "Cleaned credit card data saved as 'cleaned_creditcard_data.csv'.\n",
            "Cleaned IP-to-Country data saved as 'cleaned_ip_country_data.csv'.\n"
          ]
        }
      ]
    }
  ]
}